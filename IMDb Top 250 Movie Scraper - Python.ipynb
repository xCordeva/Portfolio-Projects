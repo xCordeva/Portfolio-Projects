{
 "cells": [
  {
   "cell_type": "code",
   "execution_count": 131,
   "id": "3769ec43",
   "metadata": {},
   "outputs": [],
   "source": [
    "### IMDb Top 250 Movies Scraper ###\n",
    "import csv\n",
    "import requests\n",
    "from bs4 import BeautifulSoup\n",
    "\n",
    "# URL of the top 250 movies page\n",
    "url = 'https://www.imdb.com/chart/top/'\n",
    "\n",
    "headers = {\n",
    "    \"User-Agent\": \"Mozilla/5.0 (Windows NT 10.0; Win64; x64) AppleWebKit/537.36 (KHTML, like Gecko) Chrome/78.0.3904.108 Safari/537.36\",\n",
    "    \"Accept-Encoding\": \"gzip, deflate\", \"Accept\": \"text/html,application/xhtml+xml,application/xml;q=0.9,*/*;q=0.8\",\n",
    "    \"DNT\": \"1\", \"Connection\": \"close\", \"Upgrade-Insecure-Requests\": \"1\"}\n",
    "\n",
    "# Send a pull request to retrieve the page content\n",
    "page = requests.get(url, headers)\n",
    "soup = BeautifulSoup(page.content, \"html.parser\")\n",
    "\n",
    "# Extracting info\n",
    "title_list = [td_tag.find('a').text.strip() for td_tag in soup.find_all('td', {'class': 'titleColumn'})]\n",
    "director_list = [td_tag.find('a').get('title') for td_tag in soup.find_all('td', {'class': 'titleColumn'})]\n",
    "num_revs= [strong_tag.find('strong').get('title')[4:] for strong_tag in soup.find_all('td', {'class': 'ratingColumn imdbRating'})]\n",
    "links_list=[\"https://www.imdb.com\" + td_tag.find('a').get('href') for td_tag in soup.find_all('td', {'class': 'titleColumn'})]\n",
    "#Different Extracting due to different tags\n",
    "year = soup.find_all('span', {'class': 'secondaryInfo'})\n",
    "review = soup.find_all('td', {'class': 'ratingColumn imdbRating'})\n",
    "year_list = [yearx.text.strip() for yearx in year]\n",
    "review_list = [reviewx.text.strip() for reviewx in review]\n",
    "\n",
    "# Storing the extracted data in a nested list for output to a CSV file\n",
    "head = ['Title', 'Year', 'Top Names', 'Rate', 'Reviews', 'Link']\n",
    "data = [title_list, year_list, director_list, review_list, num_revs, links_list]\n",
    "\n",
    "# Saving the data in a CSV file with a header row first then data rows\n",
    "with open ('Top 250 Movies Of All Time.csv', 'a', newline='', encoding='UTF-8') as f:\n",
    "    writer = csv.writer(f)\n",
    "    writer.writerow(head)\n",
    "#A For loop to save every item of the list in its own row\n",
    "    for row in zip(*data):\n",
    "        writer.writerow(row)"
   ]
  }
 ],
 "metadata": {
  "kernelspec": {
   "display_name": "Python 3 (ipykernel)",
   "language": "python",
   "name": "python3"
  },
  "language_info": {
   "codemirror_mode": {
    "name": "ipython",
    "version": 3
   },
   "file_extension": ".py",
   "mimetype": "text/x-python",
   "name": "python",
   "nbconvert_exporter": "python",
   "pygments_lexer": "ipython3",
   "version": "3.10.9"
  }
 },
 "nbformat": 4,
 "nbformat_minor": 5
}
